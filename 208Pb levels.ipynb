{
 "cells": [
  {
   "cell_type": "markdown",
   "metadata": {},
   "source": [
    "# Numerical solution of eigenvalues for neutrons in 208-Pb #\n",
    "\n",
    "The goal of this project is to numerically compute the energy levels associated for neutrons in Pb-208 acording to their single particle states.\n",
    "\n",
    "![Nuclear energy levels](https://upload.wikimedia.org/wikipedia/commons/thumb/e/e5/Shells.png/220px-Shells.png)\n",
    "\n",
    "First we define some global constants that we need to work with. The values of which were assigned based upon \"Many-Body Theory Exposed\" Ch3."
   ]
  },
  {
   "cell_type": "code",
   "execution_count": 1,
   "metadata": {},
   "outputs": [],
   "source": [
    "import numpy as np\n",
    "import matplotlib.pyplot as plt\n",
    "\n",
    "# define constants for 208-Pb\n",
    "Z = 82.0\n",
    "N = 126.0\n",
    "A = 208.0\n",
    "\n",
    "# Define the scalors for the potentials\n",
    "V = -51.0+33.0*(N-Z)/A #MeV\n",
    "V_so = -0.44*V\n",
    "\n",
    "\n",
    "R = 1.27*208**(1.0/3.0) #fm\n",
    "m = 1.008664 #amu\n",
    "hbar2 = 41.79 #Mev amu fm^2\n",
    "c = -hbar2/(2*m) #Mev fm^2"
   ]
  },
  {
   "cell_type": "markdown",
   "metadata": {},
   "source": [
    "The hamiltonian for a single particle neutron can be described by as the following:\n",
    "\n",
    "$$ \\hat{H} = \\frac{\\hat{P}^2}{2m} + \\frac{\\hbar^2}{2m}\\frac{l(l+1)}{r^2} + U(r)$$\n",
    "\n",
    "Thus the following functions being set up are for everything except the kinetic energy term."
   ]
  },
  {
   "cell_type": "code",
   "execution_count": 2,
   "metadata": {},
   "outputs": [],
   "source": [
    "def AngularMom(ri,l):\n",
    "    ''' gives the angular momentum or centrifugal term in the hamiltonian'''\n",
    "    return -c*l*(l+1)/ri**2"
   ]
  },
  {
   "cell_type": "markdown",
   "metadata": {},
   "source": [
    "Here we use a Woods-Saxton potential combined with the spin orbit coupling to generate the energy levels for different neutron shells.\n",
    "\n",
    "The empirical single partical potential for the system is as follows:\n",
    "\n",
    "$$ U = Vf(r) + V_{ls}\\frac{l * s}{\\hbar^2}r_0^2\\frac{1}{r}\\frac{d}{dr}f(r)$$\n",
    "\n",
    "where\n",
    "$$ f(r) = [1+ exp( \\frac{r-R}{a} )]^{-1} $$"
   ]
  },
  {
   "cell_type": "code",
   "execution_count": 3,
   "metadata": {},
   "outputs": [],
   "source": [
    "a = 0.67 #diffuseness parameter\n",
    "def WoodsSaxton(r,R,a):\n",
    "    return (1+np.exp((r-R)/a))**-1"
   ]
  },
  {
   "cell_type": "markdown",
   "metadata": {},
   "source": [
    "The Spin orbit coupling of the neutrons is handled by this term of the potential:\n",
    "$$ V_{ls}\\frac{l \\cdot s}{\\hbar^2}r_0^2\\frac{1}{r}\\frac{d}{dr}f(r) $$\n",
    "\n",
    "First we take the derivative of the Woods-Saxton potential\n",
    "\n",
    "$$ \\frac{d}{dr}f(r) = \\frac{exp( \\frac{r-R}{a} )}{a*(1+exp(\\frac{r-R}{a}))^2}$$\n",
    "\n",
    "Then we take the simplification of $l \\cdot s$\n",
    "$$ l \\cdot s = (j(j+1))-l(l+1)-s(s+1) $$"
   ]
  },
  {
   "cell_type": "code",
   "execution_count": 4,
   "metadata": {},
   "outputs": [],
   "source": [
    "def DerivWoodsSaxton(r,R,a):\n",
    "    return -np.exp((np.abs(r)-R)/a)/(a*(1+np.exp((np.abs(r)-R)/a))**2)\n",
    "\n",
    "def SpinOrbit(j,l,s,ri,R,a):\n",
    "    ''' gives the spin orbit coupling term to the potential'''\n",
    "    LS = 0.5*((j*(j+1))-l*(l+1)-s*(s+1))\n",
    "    return V_so*LS*(1.27**2)/ri*DerivWoodsSaxton(ri,R,a)"
   ]
  },
  {
   "cell_type": "code",
   "execution_count": 5,
   "metadata": {},
   "outputs": [
    {
     "data": {
      "image/png": "[encoded data removed]",
      "text/plain": [
       "<Figure size 432x288 with 1 Axes>"
      ]
     },
     "metadata": {
      "needs_background": "light"
     },
     "output_type": "display_data"
    }
   ],
   "source": [
    "x = np.arange(0,12,0.01)\n",
    "\n",
    "plt.plot(x, V*WoodsSaxton(x,R,a))\n",
    "plt.plot(x, 50*DerivWoodsSaxton(x,R,a))\n",
    "plt.xlabel(\"radius (fm)\")\n",
    "plt.ylabel(\"Potential (MeV)\")\n",
    "plt.show()"
   ]
  },
  {
   "cell_type": "markdown",
   "metadata": {},
   "source": [
    "Next we must handle the kinetic energy term of the hamiltonian. This is a second derivative in radial position (when we use a wavefunction multiplied by the radius). Here we use the second order finite difference method to analytically calculate the derivative, which is defined as\n",
    "\n",
    "$$ u''(x) = \\frac{u(x+h) + u(x-h) - 2u(x)}{h^2} + O(h^2)$$\n",
    "\n",
    "where the error $O(h^2)$ is scaled with the square of the step size h. This requires the descritization of the position space. After descritization, we setup and solve the eigenvalue problem given below.\n",
    "\n",
    "$$\n",
    "\\begin{bmatrix}\n",
    "    [3,1] + V & -1 & 0 & \\dots & \\dots & 0 \\\\\n",
    "    -1 & 2 + V & -1 & 0 & \\dots  & \\dots \\\\\n",
    "    0 &-1 & 2 + V & -1 & 0  & \\dots \\\\\n",
    "    0 & \\dots & \\ddots & \\ddots & \\ddots & 0 \\\\\n",
    "    0 & \\dots & \\dots& -1 & 2 + V & -1 \\\\\n",
    "    0 & \\dots & \\dots & \\dots& -1 & 2 + V\n",
    "\\end{bmatrix} * U(r,n,l,m) = E*U(r,n,l,m)    $$\n",
    "\n",
    "(where it is 3 if $l$=even and 1 if $l$=odd)"
   ]
  },
  {
   "cell_type": "code",
   "execution_count": 6,
   "metadata": {},
   "outputs": [
    {
     "name": "stdout",
     "output_type": "stream",
     "text": [
      "0.015\n"
     ]
    }
   ],
   "source": [
    "# descritize the problem\n",
    "n = 1000\n",
    "\n",
    "r_min = 0\n",
    "r_max = 15\n",
    "\n",
    "h = (r_max-r_min)/n\n",
    "print(h)"
   ]
  },
  {
   "cell_type": "code",
   "execution_count": 7,
   "metadata": {},
   "outputs": [],
   "source": [
    "def MakeTriDiag(j,l,s):\n",
    "    A = np.zeros((n,n))\n",
    "#     r_array = np.arange(r_min + 0.5*h, r_max, h)\n",
    "    \n",
    "    for i in range(n):\n",
    "        # derterimine the current radius\n",
    "        ri = r_min + h*(i+0.5)\n",
    "        # determine the potential at that radius\n",
    "        Pot = V*WoodsSaxton(ri,R,a) + AngularMom(ri,l) + SpinOrbit(j,l,s,ri,R,a)\n",
    "\n",
    "        # Check if it is an edge case\n",
    "        if i == 0: # first row\n",
    "            if l%2 == 0: # even L\n",
    "                A[i][i] = -3*c/h**2 + Pot\n",
    "                A[i][i+1] = c/h**2\n",
    "            if l%2 == 1: # odd L\n",
    "                A[i][i] = -c/h**2 + Pot\n",
    "                A[i][i+1] = c/h**2 \n",
    "\n",
    "        elif i == (len(A)-1): # last row\n",
    "            if l%2 == 0: # even L\n",
    "                A[i][i] = -2*c/h**2 + Pot\n",
    "                A[i][i-1] = c/h**2\n",
    "            if l%2 == 1: # odd L\n",
    "                A[i][i] = -2*c/h**2 + Pot\n",
    "                A[i][i-1] = c/h**2\n",
    "\n",
    "        else:\n",
    "            # Build the Tridiagonal section of the matrix\n",
    "            A[i][i] = -2*c/h**2 + Pot\n",
    "            A[i][i+1] = c/h**2\n",
    "            A[i][i-1] = c/h**2\n",
    "    \n",
    "    return A\n",
    "            \n",
    "j = 1.5\n",
    "l = 1\n",
    "s = 0.5\n",
    "A = MakeTriDiag(j,l,s)"
   ]
  },
  {
   "cell_type": "code",
   "execution_count": 8,
   "metadata": {},
   "outputs": [],
   "source": [
    "# Find the eigen values of the matrix A because the eigen values are the energy \n",
    "# while the eigenvectors are the wavefuctions*r as a function of r\n",
    "vals, vect = np.linalg.eigh(A)\n"
   ]
  },
  {
   "cell_type": "code",
   "execution_count": 9,
   "metadata": {},
   "outputs": [
    {
     "name": "stdout",
     "output_type": "stream",
     "text": [
      "0p1.5 Energy=-36.1206\n",
      "1p1.5 Energy=-23.3499\n",
      "2p1.5 Energy=-8.1976\n"
     ]
    },
    {
     "data": {
      "image/png": "[encoded data removed]",
      "text/plain": [
       "<Figure size 432x288 with 1 Axes>"
      ]
     },
     "metadata": {
      "needs_background": "light"
     },
     "output_type": "display_data"
    }
   ],
   "source": [
    "# Search through all the eigenvalues and find the values below 0 as those are the bound states\n",
    "def getvalues(j,l,s,vals,vect,plot):\n",
    "    vect = vect.T\n",
    "    r_array = np.arange(r_min + 0.5*h, r_max, h)\n",
    "    specnot = {0:\"s\",1:\"p\",2:\"d\",3:'f',4:\"g\",5:\"h\",6:\"i\",7:\"j\"}\n",
    "    i = 0\n",
    "    # have a list of sorted values so it is easy to find the lowest energies\n",
    "    vals_ordered = np.sort(vals)\n",
    "    while vals_ordered[i] < 0: # energy < 0 is a bound state\n",
    "        print(\"{}{}{} Energy={}\".format(i,specnot[l],j,round(vals_ordered[i],4)))\n",
    "        if plot:\n",
    "            # find the index in the unorderd so the \n",
    "            index = np.where(vals == vals_ordered[i])\n",
    "            plt.plot(r_array, (vect[index][0]/r_array))\n",
    "        i += 1\n",
    "    if plot:\n",
    "        plt.title(\"j={} l={} s={}\".format(j,l,s))\n",
    "        plt.xlabel(\"radius (fm)\")\n",
    "        plt.ylabel(\"Wavefunc(r)\")\n",
    "        plt.show()\n",
    "\n",
    "getvalues(j,l,s,vals,vect,True)"
   ]
  },
  {
   "cell_type": "markdown",
   "metadata": {},
   "source": [
    "## The Results ##\n",
    "These numbers can be compared to the [following site](https://web.physics.wustl.edu/~wimd/bomo_levels_208Pb.pdf)\n",
    "\n",
    "The last step is to loop over all posible values of $l$ and $s$ to determine the energies of those states"
   ]
  },
  {
   "cell_type": "code",
   "execution_count": 10,
   "metadata": {},
   "outputs": [
    {
     "name": "stdout",
     "output_type": "stream",
     "text": [
      "0s0.5 Energy=-39.9586\n",
      "1s0.5 Energy=-29.4796\n",
      "2s0.5 Energy=-15.1813\n",
      "3s0.5 Energy=-1.1521\n",
      "0p1.5 Energy=-36.1205\n",
      "1p1.5 Energy=-23.3498\n",
      "2p1.5 Energy=-8.1972\n",
      "0p0.5 Energy=-35.8721\n",
      "1p0.5 Energy=-22.8595\n",
      "2p0.5 Energy=-7.5968\n",
      "0d2.5 Energy=-31.5969\n",
      "1d2.5 Energy=-16.9355\n",
      "2d2.5 Energy=-1.8436\n",
      "0d1.5 Energy=-30.8605\n",
      "1d1.5 Energy=-15.7615\n",
      "2d1.5 Energy=-0.8142\n",
      "0f3.5 Energy=-26.4997\n",
      "1f3.5 Energy=-10.3511\n",
      "0f2.5 Energy=-25.0214\n",
      "1f2.5 Energy=-8.3802\n",
      "0g4.5 Energy=-20.9116\n",
      "1g4.5 Energy=-3.7573\n",
      "0g3.5 Energy=-18.4405\n",
      "1g3.5 Energy=-1.0573\n",
      "0h5.5 Energy=-14.8982\n",
      "0h4.5 Energy=-11.2056\n",
      "0i6.5 Energy=-8.5158\n",
      "0i5.5 Energy=-3.4241\n",
      "0j7.5 Energy=-1.8203\n"
     ]
    }
   ],
   "source": [
    "n = 2000\n",
    "r_min = 0\n",
    "r_max = 15\n",
    "h = (r_max-r_min)/n\n",
    "\n",
    "for l in range(8):\n",
    "    for s in [0.5,-0.5]:\n",
    "        j = l + s\n",
    "        if j < 0:\n",
    "            continue\n",
    "        A = MakeTriDiag(j,l,s)\n",
    "        vals, vect = np.linalg.eigh(A)\n",
    "        #change T/F based on if you want plots of the wavefunctions\n",
    "        getvalues(j,l,s,vals,vect,False)\n"
   ]
  },
  {
   "cell_type": "code",
   "execution_count": null,
   "metadata": {},
   "outputs": [],
   "source": []
  }
 ],
 "metadata": {
  "kernelspec": {
   "display_name": "Python 3",
   "language": "python",
   "name": "python3"
  },
  "language_info": {
   "codemirror_mode": {
    "name": "ipython",
    "version": 3
   },
   "file_extension": ".py",
   "mimetype": "text/x-python",
   "name": "python",
   "nbconvert_exporter": "python",
   "pygments_lexer": "ipython3",
   "version": "3.7.1"
  }
 },
 "nbformat": 4,
 "nbformat_minor": 2
}
